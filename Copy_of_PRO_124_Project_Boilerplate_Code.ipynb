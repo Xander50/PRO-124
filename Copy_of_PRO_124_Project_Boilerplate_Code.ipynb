{
  "nbformat": 4,
  "nbformat_minor": 0,
  "metadata": {
    "colab": {
      "provenance": [],
      "include_colab_link": true
    },
    "kernelspec": {
      "name": "python3",
      "display_name": "Python 3"
    },
    "language_info": {
      "name": "python"
    }
  },
  "cells": [
    {
      "cell_type": "markdown",
      "metadata": {
        "id": "view-in-github",
        "colab_type": "text"
      },
      "source": [
        "<a href=\"https://colab.research.google.com/github/Xander50/PRO-124/blob/main/Copy_of_PRO_124_Project_Boilerplate_Code.ipynb\" target=\"_parent\"><img src=\"https://colab.research.google.com/assets/colab-badge.svg\" alt=\"Open In Colab\"/></a>"
      ]
    },
    {
      "cell_type": "markdown",
      "source": [
        "## Print Elements of Array"
      ],
      "metadata": {
        "id": "xZm_Pf8B1ehI"
      }
    },
    {
      "cell_type": "markdown",
      "source": [
        "**Problem**: Given 1X1 Array:\n",
        "\n",
        "```\n",
        "arr_1d = [53, 78, 90, 12, 15, 65, 44, 32, 29, 36]\n",
        "```\n",
        "\n",
        "1. Print 3rd and 9th element of the array.\n",
        "2. Change  3rd and 9th element to 100.\n"
      ],
      "metadata": {
        "id": "Sa43lAGbgtEp"
      }
    },
    {
      "cell_type": "code",
      "source": [
        "import numpy as np\n",
        "arr_1d = np.array([53, 78, 90, 12, 15, 65, 44, 32, 29, 36])\n",
        "print(arr_1d[2])\n",
        "print(arr_1d[8])\n",
        "arr_1d[2]=100\n",
        "arr_1d[8]=100\n",
        "print(arr_1d)\n"
      ],
      "metadata": {
        "id": "8Tu6DVd_gsyW",
        "outputId": "ce3dfa8b-d22d-4c1a-821e-9689ae23089e",
        "colab": {
          "base_uri": "https://localhost:8080/"
        }
      },
      "execution_count": 3,
      "outputs": [
        {
          "output_type": "stream",
          "name": "stdout",
          "text": [
            "90\n",
            "29\n",
            "[ 53  78 100  12  15  65  44  32 100  36]\n"
          ]
        }
      ]
    },
    {
      "cell_type": "code",
      "source": [],
      "metadata": {
        "id": "KWMyk4FvzIWW"
      },
      "execution_count": null,
      "outputs": []
    },
    {
      "cell_type": "markdown",
      "source": [
        "## Update Diagonal Elements of Multidimensional Array"
      ],
      "metadata": {
        "id": "uRA1HzKH1tnN"
      }
    },
    {
      "cell_type": "markdown",
      "source": [
        "**Problem**: Given a 3x3 array, change all the diagonal elements of the matrix to 0.\n",
        "\n",
        "```\n",
        "\n",
        "arr_2d = [[1,2,3],\n",
        "          [4,5,6],\n",
        "          [7,8,9]]\n",
        "```\n",
        "\n",
        "\n",
        "\n"
      ],
      "metadata": {
        "id": "3eSRw71ohlfT"
      }
    },
    {
      "cell_type": "code",
      "source": [
        "#Write code here\n",
        "arr_2d = np.array([[1,2,3],\n",
        "          [4,5,6],\n",
        "          [7,8,9]])\n",
        "rows=3\n",
        "cols=3\n",
        "\n",
        "for i in range(rows):\n",
        "  for j in range(cols):\n",
        "    if i==j:\n",
        "      arr_2d[i][j]=0\n",
        "    else:\n",
        "      pass\n",
        "print(arr_2d)\n"
      ],
      "metadata": {
        "id": "FR0UU8eohcL2",
        "outputId": "0d042aad-68aa-46ae-f729-c5cf177666aa",
        "colab": {
          "base_uri": "https://localhost:8080/"
        }
      },
      "execution_count": 4,
      "outputs": [
        {
          "output_type": "stream",
          "name": "stdout",
          "text": [
            "[[0 2 3]\n",
            " [4 0 6]\n",
            " [7 8 0]]\n"
          ]
        }
      ]
    },
    {
      "cell_type": "markdown",
      "source": [
        "## Numbers of Rows & Column"
      ],
      "metadata": {
        "id": "bXr0ly2R2eWL"
      }
    },
    {
      "cell_type": "markdown",
      "source": [
        "**Problem**: Write a program to find the number of rows and columns present in the matrix given below. \n",
        "Note: Initialize the matrix using NumPy.\n",
        "\n",
        "```\n",
        " A= [[9,5,6,1,-2],\n",
        "    [3,-8,1,2,0],\n",
        "    [6,9,3,3,5]]\n",
        "```\n",
        "\n"
      ],
      "metadata": {
        "id": "Zd4zvVe6aDuH"
      }
    },
    {
      "cell_type": "code",
      "execution_count": 6,
      "metadata": {
        "id": "Pc1piH7OaABW",
        "colab": {
          "base_uri": "https://localhost:8080/"
        },
        "outputId": "95c4458f-5280-418b-d3ce-bfe202bdf7b1"
      },
      "outputs": [
        {
          "output_type": "stream",
          "name": "stdout",
          "text": [
            "number of rows: 3\n",
            "number of columns: 5\n"
          ]
        }
      ],
      "source": [
        "# write code here\n",
        "A= np.array([[9,5,6,1,-2],\n",
        "    [3,-8,1,2,0],\n",
        "    [6,9,3,3,5]])\n",
        "rows,columns=A.shape\n",
        "print(\"number of rows:\",rows)\n",
        "print(\"number of columns:\",cols)"
      ]
    },
    {
      "cell_type": "markdown",
      "source": [
        "## Scalar Multiplication"
      ],
      "metadata": {
        "id": "e-VQUDqo3Z89"
      }
    },
    {
      "cell_type": "markdown",
      "source": [
        "**Problem**: Print each element of the following matrix. Initialize the matrix using NumPy.  <br />\n",
        "Also, multiply the matrix with n = 150 and print the matrix after multiplication.\n",
        "   \n",
        "```\n",
        " B=[[-8,0,2,4],[5,2,-1,7]]\n",
        "```\n",
        "\n",
        "\n",
        "   "
      ],
      "metadata": {
        "id": "T49oCERtaugu"
      }
    },
    {
      "cell_type": "code",
      "source": [
        "import numpy as np\n",
        "B=np.array([[-8,0,2,4],[5,2,-1,7]])\n",
        "n=150\n",
        "rows=len(B)\n",
        "cols=len(B[0])\n",
        "mul=np.zeros([rows,cols])\n",
        "count=1\n",
        "for i in range(rows):\n",
        "  for j in range(cols):\n",
        "    mul[i][j]=n*B[i][j]\n",
        "    if count<=n:\n",
        "      print(\"element\",count,\"is\",B[i][j])\n",
        "      count+=1\n",
        "print(\"\\n\",mul)\n",
        "  "
      ],
      "metadata": {
        "id": "lqYsQ20ZgeXy",
        "colab": {
          "base_uri": "https://localhost:8080/"
        },
        "outputId": "e1443379-0001-420f-a0bf-12258055906d"
      },
      "execution_count": 4,
      "outputs": [
        {
          "output_type": "stream",
          "name": "stdout",
          "text": [
            "element 1 is -8\n",
            "element 2 is 0\n",
            "element 3 is 2\n",
            "element 4 is 4\n",
            "element 5 is 5\n",
            "element 6 is 2\n",
            "element 7 is -1\n",
            "element 8 is 7\n",
            "\n",
            " [[-1200.     0.   300.   600.]\n",
            " [  750.   300.  -150.  1050.]]\n"
          ]
        }
      ]
    }
  ]
}